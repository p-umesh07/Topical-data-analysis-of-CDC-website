{
 "cells": [
  {
   "cell_type": "markdown",
   "metadata": {},
   "source": [
    "# Part 1 Influenza Positive Tests Reported to CDC by U.S. Clinical Laboratories "
   ]
  },
  {
   "cell_type": "code",
   "execution_count": 4,
   "metadata": {},
   "outputs": [
    {
     "name": "stderr",
     "output_type": "stream",
     "text": [
      "Warning message:\n",
      "\"package 'plotly' was built under R version 3.5.2\"Loading required package: ggplot2\n",
      "\n",
      "Attaching package: 'plotly'\n",
      "\n",
      "The following object is masked from 'package:ggplot2':\n",
      "\n",
      "    last_plot\n",
      "\n",
      "The following object is masked from 'package:stats':\n",
      "\n",
      "    filter\n",
      "\n",
      "The following object is masked from 'package:graphics':\n",
      "\n",
      "    layout\n",
      "\n"
     ]
    }
   ],
   "source": [
    "library(plotly)"
   ]
  },
  {
   "cell_type": "markdown",
   "metadata": {},
   "source": [
    "Plotly is an open source graphing library in R. It is used to make interactive, publication-quality graphs online."
   ]
  },
  {
   "cell_type": "code",
   "execution_count": 72,
   "metadata": {},
   "outputs": [],
   "source": [
    "data <- read.csv('Positive tests.csv')"
   ]
  },
  {
   "cell_type": "markdown",
   "metadata": {},
   "source": [
    "There are many variables to plot. We use Plotly to plot the graph and trace all the variables. The data is obtained from the CDC website"
   ]
  },
  {
   "cell_type": "code",
   "execution_count": 74,
   "metadata": {},
   "outputs": [],
   "source": [
    "NationalSummary <- data\n",
    "xaxis <- c(NationalSummary$Week)\n",
    "y1 <- NationalSummary$Total.A\n",
    "y2 <- NationalSummary$Total.B\n",
    "perPositive <- NationalSummary$Percent.Positive\n",
    "data <- data.frame(xaxis,y1,y2)\n",
    "p <- plot_ly(data, x = c(xaxis)) %>%\n",
    "    add_trace(y = ~y1, type = 'bar', name = 'A',marker = list(color = 'yellow')) %>%\n",
    "    add_trace(y = ~y2, type = 'bar',name = 'B',marker = list(color = 'green')) %>%\n",
    "    add_trace(y = ~perPositive, type = 'scatter', mode = 'lines', name = 'Percent Positive',yaxis = 'y2',\n",
    "              line = list(color='black')) %>%\n",
    "    add_trace(y = ~c(NationalSummary$Percent.Positive.A), type = 'scatter', mode = 'lines', name = 'Percent Positive',\n",
    "              yaxis = 'y2',line = list(color='yellow', dash = 'dot')) %>%\n",
    "    add_trace(y = ~c(NationalSummary$Percent.Positive.B), type = 'scatter', mode = 'lines', name = 'Percent Positive',\n",
    "              yaxis = 'y2',line = list(color='green', dash = 'dot')) %>%\n",
    "  layout(xaxis = list(type = 'category',title = \"Week\"),yaxis = list(range = c(0,18000),title = 'Number of positive specimens'),\n",
    "         yaxis2 = list(range = c(0,30),overlaying = 'y',side = 'right', title = \"Percent Positive\"), \n",
    "         barmode = 'overlay', title='Influenza Positive Tests Reported to CDC by U.S. Clinical Laboratories,\\n\n",
    "                    National Summary, 2018-2019 Season')"
   ]
  },
  {
   "cell_type": "code",
   "execution_count": null,
   "metadata": {},
   "outputs": [],
   "source": [
    "p"
   ]
  },
  {
   "cell_type": "markdown",
   "metadata": {},
   "source": [
    "# Part 2 PUBLIC HEALTH LABORATORIES"
   ]
  },
  {
   "cell_type": "code",
   "execution_count": 9,
   "metadata": {},
   "outputs": [],
   "source": [
    "PositiveTested <- read.csv(file=\"Data CSV.csv\", header=TRUE, sep=\",\")"
   ]
  },
  {
   "cell_type": "code",
   "execution_count": 15,
   "metadata": {},
   "outputs": [],
   "source": [
    "library(plotly)\n",
    "xaxis <- c(PositiveTested$Week)\n",
    "\n",
    "Asubtype <- PositiveTested$A.Subtyping.not.performed.\n",
    "Ah3n2 <- PositiveTested$A.H3N2v.\n",
    "Ah1n1 <- PositiveTested$A.H1N1\n",
    "Ah3 <- PositiveTested$A.H3.\n",
    "B <- PositiveTested$B\n",
    "Bvic <- PositiveTested$BVIC\n",
    "Byam <- PositiveTested$BYAM\n",
    "\n",
    "data <- data.frame(xaxis,Asubtype,Ah3n2,Ah1n1,Ah3,B,Bvic,Byam)\n",
    "\n",
    "p <- plot_ly(data,x = c(xaxis)) %>%\n",
    "    add_trace(y = ~Byam, type = 'bar', name = 'B(Yamagata Lineage)',marker = list(color = c('rgba(24,179,20,89)'))) %>%\n",
    "    add_trace(y = ~Bvic, type = 'bar', name = 'B(Victoria Lineage)',marker = list(color = c('rgba(59,229,54,67)'))) %>%\n",
    "    add_trace(y = ~B, type = 'bar', name = 'B(Lineage Not Performed)',marker = list(color = c('rgba(17,86,15,100)'))) %>%\n",
    "    add_trace(y = ~Ah3n2, type = 'bar', name = 'H3N2v',marker = list(color = c('rgba(20,101,179,89)'))) %>%\n",
    "    add_trace(y = ~Ah3, type = 'bar', name = 'A(H3N2)',marker = list(color = 'red')) %>%\n",
    "    add_trace(y = ~Ah1n1, type = 'bar', name = 'A (H1N1)pdm09',marker = list(color = 'orange')) %>%\n",
    "    add_trace(y = ~Asubtype, type = 'bar', name = 'A(Subtyping not performed)',marker = list(color = 'yellow')) %>%\n",
    "    \n",
    "    layout(xaxis = list(type = 'category',title='Week'), \n",
    "           yaxis=list(range = c(0,4000), title='Number of positive specimens'),\n",
    "           barmode = 'stack', title = 'Influenza Positive Tests Reported to CDC by U.S. Public Health Laboratories\\n \n",
    "National Summary, 2018-2019 Season')\n"
   ]
  },
  {
   "cell_type": "code",
   "execution_count": null,
   "metadata": {},
   "outputs": [],
   "source": [
    "p"
   ]
  },
  {
   "cell_type": "markdown",
   "metadata": {},
   "source": [
    "# Part 3 Influenza Associated Pediatric Deaths"
   ]
  },
  {
   "cell_type": "code",
   "execution_count": 207,
   "metadata": {},
   "outputs": [],
   "source": [
    "data <- read.csv(\"Weekly.csv\",skip=1,header=T)\n",
    "data <- data[1:170,]\n",
    "t <- list(\n",
    "  family = \"sans serif\",\n",
    "  size = 12,\n",
    "  color = 'black')\n",
    "marker_style <- list(line = list(width = 0.01,\n",
    "                                 color = 'rgb(0, 0, 0)'));\n",
    "p <- plot_ly(x=data$WEEK.NUMBER,y=data$PREVIOUS.WEEK.DEATHS,type=\"bar\",color=I(\"dark green\"),name=\"Deaths Reported Previous Week\",marker=marker_style) %>%\n",
    "  add_trace(y = data$CURRENT.WEEK.DEATHS, color=I(\"sky blue\"),name = 'Deaths Reported Current Week',color=I(\"orange\"),marker=marker_style) %>%\n",
    "  layout(font=t,title=\"Number of Influenza Associated Pediatric Deaths\\n by Week of Death: 2015-2016 season to present\",xaxis=list(title=\"Week\",tickangle=-90)\n",
    "         ,yaxis = list(title = 'Number of Deaths',range=c(0,30)), barmode = 'stack') %>%\n",
    "layout(legend = list(x = 0.4, y = -0.5))\n"
   ]
  },
  {
   "cell_type": "code",
   "execution_count": null,
   "metadata": {},
   "outputs": [],
   "source": [
    "p"
   ]
  },
  {
   "cell_type": "markdown",
   "metadata": {},
   "source": [
    "# Part 4 Mortality"
   ]
  },
  {
   "cell_type": "code",
   "execution_count": 205,
   "metadata": {},
   "outputs": [],
   "source": [
    "Mort <- read.csv(\"mort.csv\")"
   ]
  },
  {
   "cell_type": "code",
   "execution_count": null,
   "metadata": {},
   "outputs": [],
   "source": [
    "library(plotly)\n",
    "Mort$NewCol <- paste(Mort$Year, Mort$Week, sep='')\n",
    "d<-data.frame(Mort$Week,Mort$Threshold,Mort$Expected,Mort$Percent.of.Deaths.Due.to.Pneumonia.and.Influenza)\n",
    "final<-plot_ly(d, x = ~Mort$NewCol) %>%\n",
    "add_trace(y = ~c(Mort$Threshold),type = 'scatter', mode = 'lines', name = 'Threshold', \n",
    "          line = list(color='black',width =4)) %>%\n",
    "add_trace(y = ~c(Mort$Expected), type = 'scatter', mode = 'lines', name = 'Base Line',\n",
    "          line = list(color='black')) %>%\n",
    "add_trace(y = ~c(Mort$Percent.of.Deaths.Due.to.Pneumonia.and.Influenza), type = 'scatter', \n",
    "          mode = 'lines', name = 'Percent P&I',line = list(color='red')) %>%\n",
    "layout(xaxis = list(title = \"Week\", type = \"category\",categoryarray=c(0,432)), \n",
    "       #xaxis2 = list(range = c(0,432), overlaying = 'x',side = 'top', type = \"category\"),\n",
    "       yaxis = list(range = c(4,12),title = '% of All Deaths due to P&I'),\n",
    "       title='Pneumonia and Influenza Mortality from\\nthe National Center for Health Statics Mortality Surveillance System\\n\n",
    "Data through the week ending January 13,2018, as of Feburary 1,2018')\n",
    "final"
   ]
  },
  {
   "cell_type": "markdown",
   "metadata": {},
   "source": [
    "# Part 5 Flu Heat Map"
   ]
  },
  {
   "cell_type": "code",
   "execution_count": 27,
   "metadata": {},
   "outputs": [],
   "source": [
    "HeatMap <- read.csv(\"FluHeatMap_USA.csv\")"
   ]
  },
  {
   "cell_type": "code",
   "execution_count": 28,
   "metadata": {},
   "outputs": [],
   "source": [
    "HeatMap$ACTIVITY.LEVEL = sub('[a-zA-Z]{5}', '', HeatMap$ACTIVITY.LEVEL)\n",
    "HeatMap$ACTIVITY.LEVEL = sub('^\\\\s', '', HeatMap$ACTIVITY.LEVEL)"
   ]
  },
  {
   "cell_type": "code",
   "execution_count": 29,
   "metadata": {},
   "outputs": [],
   "source": [
    "HeatMap$LEVEL = as.numeric(HeatMap$ACTIVITY.LEVEL)"
   ]
  },
  {
   "cell_type": "code",
   "execution_count": null,
   "metadata": {},
   "outputs": [],
   "source": [
    "p <- plot_geo(HeatMap, locationmode = 'USA-states') %>%\n",
    "  add_trace(\n",
    "    z = ~HeatMap$LEVEL, locations = ~HeatMap$STATE,\n",
    "    color = ~HeatMap$LEVEL, colors = 'Reds' ) %>%\n",
    "  colorbar(title = \"Activity Level\") %>%\n",
    "  layout(\n",
    "    title = '2018-19 Influenza Season',\n",
    "    geo = list(\n",
    "  scope = 'usa',\n",
    "  projection = list(type = 'albers usa'),\n",
    "  showlakes = TRUE,\n",
    "  lakecolor = toRGB('white')\n",
    ")\n",
    "  )\n",
    "\n",
    "p"
   ]
  },
  {
   "cell_type": "markdown",
   "metadata": {},
   "source": [
    "# Part 6 New York Clinical Laboratories"
   ]
  },
  {
   "cell_type": "code",
   "execution_count": 200,
   "metadata": {},
   "outputs": [],
   "source": [
    "file = 'clinical.csv'\n",
    "headers = read.csv(file, skip = 1, header = F, nrows = 1, as.is = T)\n",
    "part6 = read.csv(file, skip = 3, header = F)\n",
    "colnames(part6)= headers"
   ]
  },
  {
   "cell_type": "code",
   "execution_count": 201,
   "metadata": {},
   "outputs": [
    {
     "data": {
      "text/html": [
       "<ol class=list-inline>\n",
       "\t<li>'REGION TYPE'</li>\n",
       "\t<li>'REGION'</li>\n",
       "\t<li>'YEAR'</li>\n",
       "\t<li>'WEEK'</li>\n",
       "\t<li>'TOTAL SPECIMENS'</li>\n",
       "\t<li>'TOTAL A'</li>\n",
       "\t<li>'TOTAL B'</li>\n",
       "\t<li>'PERCENT POSITIVE'</li>\n",
       "\t<li>'PERCENT A'</li>\n",
       "\t<li>'PERCENT B'</li>\n",
       "</ol>\n"
      ],
      "text/latex": [
       "\\begin{enumerate*}\n",
       "\\item 'REGION TYPE'\n",
       "\\item 'REGION'\n",
       "\\item 'YEAR'\n",
       "\\item 'WEEK'\n",
       "\\item 'TOTAL SPECIMENS'\n",
       "\\item 'TOTAL A'\n",
       "\\item 'TOTAL B'\n",
       "\\item 'PERCENT POSITIVE'\n",
       "\\item 'PERCENT A'\n",
       "\\item 'PERCENT B'\n",
       "\\end{enumerate*}\n"
      ],
      "text/markdown": [
       "1. 'REGION TYPE'\n",
       "2. 'REGION'\n",
       "3. 'YEAR'\n",
       "4. 'WEEK'\n",
       "5. 'TOTAL SPECIMENS'\n",
       "6. 'TOTAL A'\n",
       "7. 'TOTAL B'\n",
       "8. 'PERCENT POSITIVE'\n",
       "9. 'PERCENT A'\n",
       "10. 'PERCENT B'\n",
       "\n",
       "\n"
      ],
      "text/plain": [
       " [1] \"REGION TYPE\"      \"REGION\"           \"YEAR\"             \"WEEK\"            \n",
       " [5] \"TOTAL SPECIMENS\"  \"TOTAL A\"          \"TOTAL B\"          \"PERCENT POSITIVE\"\n",
       " [9] \"PERCENT A\"        \"PERCENT B\"       "
      ]
     },
     "metadata": {},
     "output_type": "display_data"
    }
   ],
   "source": [
    "colnames(part6)"
   ]
  },
  {
   "cell_type": "code",
   "execution_count": 202,
   "metadata": {},
   "outputs": [],
   "source": [
    "part6 <- setNames(part6, c('REGION.TYPE', 'REGION', 'YEAR', 'WEEK', 'TOTAL.SPECIMENS','TOTAL.A','TOTAL.B', 'PERCENT.POSITIVE','PERCENT.A', 'PERCENT.B'))"
   ]
  },
  {
   "cell_type": "code",
   "execution_count": 203,
   "metadata": {},
   "outputs": [],
   "source": [
    "xaxis <- c(part6$WEEK)\n",
    "y1 <- part6$TOTAL.A\n",
    "y2 <- part6$TOTAL.B\n",
    "perPositive <- part6$PERCENT.POSITIVE\n",
    "data <- data.frame(xaxis,y1,y2)\n",
    "p <- plot_ly(data, x = c(xaxis)) %>%\n",
    "    add_trace(y = ~y1, type = 'bar', name = 'A',marker = list(color = 'yellow')) %>%\n",
    "    add_trace(y = ~y2, type = 'bar',name = 'B',marker = list(color = 'green')) %>%\n",
    "    add_trace(y = ~perPositive, type = 'scatter', mode = 'lines', name = 'Percent Positive',yaxis = 'y2',\n",
    "              line = list(color='black')) %>%\n",
    "    add_trace(y = ~c(part6$PERCENT.A), type = 'scatter', mode = 'lines', name = 'Percent Positive',\n",
    "              yaxis = 'y2',line = list(color='yellow', dash = 'dot')) %>%\n",
    "    add_trace(y = ~c(part6$PERCENT.B), type = 'scatter', mode = 'lines', name = 'Percent Positive',\n",
    "              yaxis = 'y2',line = list(color='green', dash = 'dot')) %>%\n",
    "  layout(xaxis = list(type = 'category',title = \"Week\"),yaxis = list(range = c(0,18000),title = 'Number of positive specimens'),\n",
    "         yaxis2 = list(range = c(0,30),overlaying = 'y',side = 'right', title = \"Percent Positive\"), \n",
    "         barmode = 'overlay', title='Influenza Positive Tests Reported to CDC by U.S. Clinical Laboratories,\\n\n",
    "                    New York, 2018-2019 Season')"
   ]
  },
  {
   "cell_type": "code",
   "execution_count": null,
   "metadata": {},
   "outputs": [],
   "source": [
    "p"
   ]
  },
  {
   "cell_type": "markdown",
   "metadata": {},
   "source": [
    "# Part 7 Positive Tests National Summary Clinical Laboratories"
   ]
  },
  {
   "cell_type": "code",
   "execution_count": 193,
   "metadata": {},
   "outputs": [],
   "source": [
    "file = 'Clinical_Labs.csv'\n",
    "headers = read.csv(file, skip = 1, header = F, nrows = 1, as.is = T)\n",
    "part7 = read.csv(file, skip = 3, header = F)\n",
    "colnames(part7)= headers"
   ]
  },
  {
   "cell_type": "code",
   "execution_count": 194,
   "metadata": {},
   "outputs": [],
   "source": [
    "names(part7) <- c('REGION.TYPE','REGION', 'YEAR', 'WEEK', 'TOTAL.SPECIMENS', 'TOTAL.A', 'TOTAL.B', 'PERCENT.POSITIVE', 'PERCENT.A', 'PERCENT.B')"
   ]
  },
  {
   "cell_type": "code",
   "execution_count": 195,
   "metadata": {},
   "outputs": [],
   "source": [
    "xaxis <- c(part7$WEEK)\n",
    "y1 <- part7$TOTAL.A\n",
    "y2 <- part7$TOTAL.B\n",
    "perPositive <- part5$PERCENT.POSITIVE\n",
    "data <- data.frame(xaxis,y1,y2)\n",
    "p <- plot_ly(data, x = c(xaxis)) %>%\n",
    "    add_trace(y = ~y1, type = 'bar', name = 'A',marker = list(color = 'yellow')) %>%\n",
    "    add_trace(y = ~y2, type = 'bar',name = 'B',marker = list(color = 'green')) %>%\n",
    "    add_trace(y = ~perPositive, type = 'scatter', mode = 'lines', name = 'Percent Positive',yaxis = 'y2',\n",
    "              line = list(color='black')) %>%\n",
    "    add_trace(y = ~c(part5$PERCENT.A), type = 'scatter', mode = 'lines', name = 'Percent Positive',\n",
    "              yaxis = 'y2',line = list(color='yellow', dash = 'dot')) %>%\n",
    "    add_trace(y = ~c(part5$PERCENT.B), type = 'scatter', mode = 'lines', name = 'Percent Positive',\n",
    "              yaxis = 'y2',line = list(color='green', dash = 'dot')) %>%\n",
    "  layout(xaxis = list(type = 'category',title = \"Week\"),yaxis = list(range = c(0,18000),title = 'Number of positive specimens'),\n",
    "         yaxis2 = list(range = c(0,30),overlaying = 'y',side = 'right', title = \"Percent Positive\"), \n",
    "         barmode = 'overlay', title='Influenza Positive Tests Reported to CDC by U.S. Clinical Laboratories,\\n\n",
    "                    National Summary, 2018-2019 Season')"
   ]
  },
  {
   "cell_type": "code",
   "execution_count": null,
   "metadata": {},
   "outputs": [],
   "source": [
    "p"
   ]
  },
  {
   "cell_type": "markdown",
   "metadata": {},
   "source": [
    "# Part 8 Positive Tests Public Health Laboratories"
   ]
  },
  {
   "cell_type": "code",
   "execution_count": 197,
   "metadata": {},
   "outputs": [],
   "source": [
    "file = 'Public_Health_Labs.csv'\n",
    "headers = read.csv(file, skip = 1, header = F, nrows = 1, as.is = T)\n",
    "part8 = read.csv(file, skip = 2, header = F)\n",
    "colnames(part8)= headers"
   ]
  },
  {
   "cell_type": "code",
   "execution_count": 199,
   "metadata": {},
   "outputs": [
    {
     "name": "stderr",
     "output_type": "stream",
     "text": [
      "Warning message:\n",
      "\"Ignoring unknown parameters: levels\"Warning message:\n",
      "\"position_stack requires non-overlapping x intervals\""
     ]
    },
    {
     "data": {},
     "metadata": {},
     "output_type": "display_data"
    },
    {
     "data": {
      "image/png": "[encoded data removed]",
      "text/plain": [
       "plot without title"
      ]
     },
     "metadata": {},
     "output_type": "display_data"
    }
   ],
   "source": [
    "names(part8) <- c('REGION TYPE', 'REGION', 'YEAR', 'WEEK', 'TOTAL SPECIMENS', 'A (2009 H1N1)', 'A (H3)', 'A (Subtyping not Performed)', 'B', 'BVic', 'BYam', 'H3N2v')\n",
    "\n",
    "library(reshape2)\n",
    "#part5_phl <- part5_phl[,-c(5,10)]\n",
    "part8 <- part8[c('WEEK','A (2009 H1N1)', 'A (H3)', 'A (Subtyping not Performed)', 'B', 'BVic', 'BYam','H3N2v')]\n",
    "part8 <- melt(data = part8, id = \"WEEK\")\n",
    "\n",
    "library(ggplot2)\n",
    "plot <- ggplot(data = part8) + \n",
    "        xlab('Week') +\n",
    "        ylab('Number of positive specimens') +\n",
    "        ggtitle(\"Influenza Positive Tests Reported to CDC by U.S. Public Health Laboratories, \\nNational Summary, 2018-2019 Season\") +\n",
    "        theme(axis.text.x = element_text(angle = 90),\n",
    "              legend.title = element_blank(),\n",
    "              panel.background = element_rect(fill = 'white')) +\n",
    "  scale_fill_manual(values = c('#F5F236', '#F29E06', '#FA0C05', '#992BFF', '#005533', '#99FF00', '#66D533')) +\n",
    "  geom_bar(aes(x = factor(WEEK), y = value, fill = variable),width = 1.5,color = 'black', stat = 'identity', levels = c(5,6,7,8,9,10,11,12,13,14,15,16,17,18,19,20,21,22,23,24,25,26,27,28,29,30,31,32,33,34,35,36,37,38,39,40,41,42,43,44,45,46,47,48,49,50,51,52,1,2,3,4)) + \n",
    "    scale_x_discrete(breaks = part8$WEEK[c(T,F,F,F)])\n",
    "plot"
   ]
  }
 ],
 "metadata": {
  "kernelspec": {
   "display_name": "R",
   "language": "R",
   "name": "ir"
  },
  "language_info": {
   "codemirror_mode": "r",
   "file_extension": ".r",
   "mimetype": "text/x-r-source",
   "name": "R",
   "pygments_lexer": "r",
   "version": "3.5.1"
  }
 },
 "nbformat": 4,
 "nbformat_minor": 2
}
